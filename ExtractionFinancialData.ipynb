{
 "cells": [
  {
   "cell_type": "code",
   "execution_count": 1,
   "metadata": {},
   "outputs": [],
   "source": [
    "import numpy as np\n",
    "import pandas as pd\n",
    "import matplotlib.pyplot as plt\n",
    "import seaborn as sns\n",
    "%matplotlib inline\n",
    "import warnings\n",
    "warnings.filterwarnings('ignore')\n"
   ]
  },
  {
   "cell_type": "markdown",
   "metadata": {},
   "source": [
    "# Extraction of financial data OSEBX from Oslo Stock Exchange\n",
    "Representing financial status. Can be downloaded as a .xlsx file here - https://www.oslobors.no/markedsaktivitet/#/details/OSEBX.OSE/overview"
   ]
  },
  {
   "cell_type": "code",
   "execution_count": 50,
   "metadata": {},
   "outputs": [
    {
     "name": "stdout",
     "output_type": "stream",
     "text": [
      "4 features and 6128 examples\n"
     ]
    },
    {
     "data": {
      "text/html": [
       "<div>\n",
       "<style scoped>\n",
       "    .dataframe tbody tr th:only-of-type {\n",
       "        vertical-align: middle;\n",
       "    }\n",
       "\n",
       "    .dataframe tbody tr th {\n",
       "        vertical-align: top;\n",
       "    }\n",
       "\n",
       "    .dataframe thead th {\n",
       "        text-align: right;\n",
       "    }\n",
       "</style>\n",
       "<table border=\"1\" class=\"dataframe\">\n",
       "  <thead>\n",
       "    <tr style=\"text-align: right;\">\n",
       "      <th></th>\n",
       "      <th>OSEBX</th>\n",
       "      <th>Siste</th>\n",
       "      <th>Høy</th>\n",
       "      <th>Lav</th>\n",
       "      <th>Offisielt omsatt (NOK)</th>\n",
       "    </tr>\n",
       "  </thead>\n",
       "  <tbody>\n",
       "    <tr>\n",
       "      <th>0</th>\n",
       "      <td>2020-06-08</td>\n",
       "      <td>NaN</td>\n",
       "      <td>NaN</td>\n",
       "      <td>NaN</td>\n",
       "      <td>5.530000e+02</td>\n",
       "    </tr>\n",
       "    <tr>\n",
       "      <th>1</th>\n",
       "      <td>2020-06-05</td>\n",
       "      <td>849.66</td>\n",
       "      <td>851.58</td>\n",
       "      <td>833.34</td>\n",
       "      <td>7.240296e+09</td>\n",
       "    </tr>\n",
       "    <tr>\n",
       "      <th>2</th>\n",
       "      <td>2020-06-04</td>\n",
       "      <td>833.31</td>\n",
       "      <td>834.09</td>\n",
       "      <td>822.05</td>\n",
       "      <td>6.057418e+09</td>\n",
       "    </tr>\n",
       "    <tr>\n",
       "      <th>3</th>\n",
       "      <td>2020-06-03</td>\n",
       "      <td>830.43</td>\n",
       "      <td>830.43</td>\n",
       "      <td>815.08</td>\n",
       "      <td>6.697843e+09</td>\n",
       "    </tr>\n",
       "    <tr>\n",
       "      <th>4</th>\n",
       "      <td>2020-06-02</td>\n",
       "      <td>815.08</td>\n",
       "      <td>815.33</td>\n",
       "      <td>796.96</td>\n",
       "      <td>6.491858e+09</td>\n",
       "    </tr>\n",
       "  </tbody>\n",
       "</table>\n",
       "</div>"
      ],
      "text/plain": [
       "       OSEBX   Siste     Høy     Lav  Offisielt omsatt (NOK)\n",
       "0 2020-06-08     NaN     NaN     NaN            5.530000e+02\n",
       "1 2020-06-05  849.66  851.58  833.34            7.240296e+09\n",
       "2 2020-06-04  833.31  834.09  822.05            6.057418e+09\n",
       "3 2020-06-03  830.43  830.43  815.08            6.697843e+09\n",
       "4 2020-06-02  815.08  815.33  796.96            6.491858e+09"
      ]
     },
     "execution_count": 50,
     "metadata": {},
     "output_type": "execute_result"
    }
   ],
   "source": [
    "#Stock market data\n",
    "stock_data = pd.read_excel('financial_data.xlsx')\n",
    "print(stock_data.shape[1] - 1,'features and',stock_data.shape[0],'data points')\n",
    "stock_data.head()"
   ]
  },
  {
   "cell_type": "code",
   "execution_count": 58,
   "metadata": {},
   "outputs": [
    {
     "data": {
      "text/html": [
       "<div>\n",
       "<style scoped>\n",
       "    .dataframe tbody tr th:only-of-type {\n",
       "        vertical-align: middle;\n",
       "    }\n",
       "\n",
       "    .dataframe tbody tr th {\n",
       "        vertical-align: top;\n",
       "    }\n",
       "\n",
       "    .dataframe thead th {\n",
       "        text-align: right;\n",
       "    }\n",
       "</style>\n",
       "<table border=\"1\" class=\"dataframe\">\n",
       "  <thead>\n",
       "    <tr style=\"text-align: right;\">\n",
       "      <th></th>\n",
       "      <th>Date</th>\n",
       "      <th>Avg Stock Price</th>\n",
       "    </tr>\n",
       "  </thead>\n",
       "  <tbody>\n",
       "    <tr>\n",
       "      <th>107</th>\n",
       "      <td>2019-12-30</td>\n",
       "      <td>933.505</td>\n",
       "    </tr>\n",
       "    <tr>\n",
       "      <th>108</th>\n",
       "      <td>2019-12-27</td>\n",
       "      <td>936.400</td>\n",
       "    </tr>\n",
       "    <tr>\n",
       "      <th>109</th>\n",
       "      <td>2019-12-23</td>\n",
       "      <td>931.725</td>\n",
       "    </tr>\n",
       "    <tr>\n",
       "      <th>110</th>\n",
       "      <td>2019-12-20</td>\n",
       "      <td>926.300</td>\n",
       "    </tr>\n",
       "    <tr>\n",
       "      <th>111</th>\n",
       "      <td>2019-12-19</td>\n",
       "      <td>918.610</td>\n",
       "    </tr>\n",
       "  </tbody>\n",
       "</table>\n",
       "</div>"
      ],
      "text/plain": [
       "          Date  Avg Stock Price\n",
       "107 2019-12-30          933.505\n",
       "108 2019-12-27          936.400\n",
       "109 2019-12-23          931.725\n",
       "110 2019-12-20          926.300\n",
       "111 2019-12-19          918.610"
      ]
     },
     "execution_count": 58,
     "metadata": {},
     "output_type": "execute_result"
    }
   ],
   "source": [
    "# Take the average stock prices per day (high+low/2)\n",
    "stock_data_avg = stock_data.drop(['Siste', 'Offisielt omsatt (NOK)', 'Lav', 'Høy'], axis=1)\n",
    "stock_data_avg['Avg Stock Price'] = (stock_data['Høy'] + stock_data['Lav'])/2\n",
    "\n",
    "# Take only data from Jan 1st 2007 until Jan 1st 2020\n",
    "stock_data_avg = stock_data_avg[(stock_data_avg['OSEBX']>'2007-01-01')& (stock_data_avg['OSEBX']<'2020-01-01')].rename(columns={\"OSEBX\": \"Date\"})\n",
    "stock_data_avg.head()                                                       "
   ]
  },
  {
   "cell_type": "code",
   "execution_count": 59,
   "metadata": {},
   "outputs": [
    {
     "data": {
      "text/plain": [
       "Date               datetime64[ns]\n",
       "Avg Stock Price           float64\n",
       "dtype: object"
      ]
     },
     "execution_count": 59,
     "metadata": {},
     "output_type": "execute_result"
    }
   ],
   "source": [
    "stock_data_avg.dtypes"
   ]
  },
  {
   "cell_type": "code",
   "execution_count": 60,
   "metadata": {},
   "outputs": [
    {
     "data": {
      "text/plain": [
       "Date               0\n",
       "Avg Stock Price    0\n",
       "dtype: int64"
      ]
     },
     "execution_count": 60,
     "metadata": {},
     "output_type": "execute_result"
    }
   ],
   "source": [
    "# Remove nulls\n",
    "index = stock_data_avg['Avg Stock Price'].index[stock_data_avg['Avg Stock Price'].apply(np.isnan)]\n",
    "stock_data_avg.isnull().sum()"
   ]
  },
  {
   "cell_type": "code",
   "execution_count": 61,
   "metadata": {},
   "outputs": [
    {
     "data": {
      "text/plain": [
       "Date               0\n",
       "Avg Stock Price    0\n",
       "dtype: int64"
      ]
     },
     "execution_count": 61,
     "metadata": {},
     "output_type": "execute_result"
    }
   ],
   "source": [
    "stock_data_avg.drop(stock_data_avg.index[index])\n",
    "stock_data_avg.isnull().sum()"
   ]
  },
  {
   "cell_type": "code",
   "execution_count": 64,
   "metadata": {},
   "outputs": [
    {
     "data": {
      "image/png": "[encoded data removed]",
      "text/plain": [
       "<Figure size 432x288 with 1 Axes>"
      ]
     },
     "metadata": {},
     "output_type": "display_data"
    }
   ],
   "source": [
    "# Visualizing the stock prices\n",
    "sns.set()\n",
    "_ = plt.plot(stock_data_avg['Date'],stock_data_avg['Avg Stock Price'] )\n",
    "_ = plt.xlabel('Date')\n",
    "_ = plt.ylabel('Avg Stock Price')\n",
    "_ = plt.title('Average stock price per day from 2007-2020')"
   ]
  },
  {
   "cell_type": "code",
   "execution_count": null,
   "metadata": {},
   "outputs": [],
   "source": []
  }
 ],
 "metadata": {
  "kernelspec": {
   "display_name": "Python 3",
   "language": "python",
   "name": "python3"
  },
  "language_info": {
   "codemirror_mode": {
    "name": "ipython",
    "version": 3
   },
   "file_extension": ".py",
   "mimetype": "text/x-python",
   "name": "python",
   "nbconvert_exporter": "python",
   "pygments_lexer": "ipython3",
   "version": "3.7.2"
  }
 },
 "nbformat": 4,
 "nbformat_minor": 2
}
