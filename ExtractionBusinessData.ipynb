{
 "cells": [
  {
   "cell_type": "code",
   "execution_count": 1,
   "metadata": {},
   "outputs": [],
   "source": [
    "import numpy as np\n",
    "import pandas as pd\n",
    "import requests\n",
    "import json\n",
    "import xlrd\n"
   ]
  },
  {
   "cell_type": "code",
   "execution_count": 26,
   "metadata": {},
   "outputs": [],
   "source": [
    "\n"
   ]
  },
  {
   "cell_type": "code",
   "execution_count": 62,
   "metadata": {},
   "outputs": [
    {
     "name": "stdout",
     "output_type": "stream",
     "text": [
      "<Response [200]>\n"
     ]
    }
   ],
   "source": [
    "# Extracting data from the business registry in Norway  - not sufficiently working as it max extracts 10.000 samples\n",
    "baseUrl = \"https://data.brreg.no/enhetsregisteret/api/enheter\"\n",
    "fromRegistryDateQuery = \"fraRegistreringsdatoEnhetsregisteret=2000-01-01\"\n",
    "#toRegistryDateQuery = \"tilRegistreringsdatoEnhetsregisteret=2007-01-01\"\n",
    "#fromFoundedDateQuery = \"fraStiftelsesdato=2000-01-01\"\n",
    "sizeQuery = \"size=10000\"\n",
    "sortQuery = \"sort=fraStiftelsesdato\"\n",
    "#orgQuery = \"organisasjonsform=ADOS,ANNA,ANS,AS,ASA,ENK\"\n",
    "\n",
    "\n",
    "url = baseUrl + '?' + fromFoundedDateQuery + '&' + sizeQuery\n",
    "response = requests.get(url)\n",
    "print(response)"
   ]
  },
  {
   "cell_type": "code",
   "execution_count": null,
   "metadata": {},
   "outputs": [],
   "source": [
    "data = response.json()\n",
    "len(data)"
   ]
  },
  {
   "cell_type": "code",
   "execution_count": null,
   "metadata": {},
   "outputs": [],
   "source": [
    "# Number of businesses\n",
    "units = data['_embedded']\n",
    "print(units)"
   ]
  },
  {
   "cell_type": "code",
   "execution_count": null,
   "metadata": {},
   "outputs": [],
   "source": [
    "# Downloading a xlsx with all business - takes too long\n",
    "url = \"https://data.brreg.no/enhetsregisteret/api/enheter/lastned/regneark\"\n",
    "headers = {'Accept': 'application/vnd.brreg.enhetsregisteret.enhet+vnd.openxmlformats-officedocument.spreadsheetml.sheet;charset=UTF-8'}\n",
    "response = requests.get(url)\n",
    "print(response)"
   ]
  },
  {
   "cell_type": "code",
   "execution_count": null,
   "metadata": {},
   "outputs": [],
   "source": [
    "workbook = xlrd.open_workbook(file_contents=response.content)  # open workbook\n",
    "worksheet = workbook.sheet_by_index(0)  # get first sheet\n",
    "first_row = worksheet.row(0)  # you can iterate over rows of a worksheet as well\n"
   ]
  },
  {
   "cell_type": "code",
   "execution_count": 68,
   "metadata": {},
   "outputs": [
    {
     "name": "stdout",
     "output_type": "stream",
     "text": [
      "<Response [200]>\n"
     ]
    }
   ],
   "source": [
    "# Downloading a g-zip with all business - works well!\n",
    "url = \"https://data.brreg.no/enhetsregisteret/api/enheter/lastned\"\n",
    "headers = {'Accept': 'application/vnd.brreg.enhetsregisteret.enhet.v1+gzip;charset=UTF-8'}\n",
    "response = requests.get(url)\n",
    "print(response)"
   ]
  },
  {
   "cell_type": "code",
   "execution_count": 69,
   "metadata": {},
   "outputs": [
    {
     "name": "stdout",
     "output_type": "stream",
     "text": [
      "{'Vary': 'Origin, Access-Control-Request-Method, Access-Control-Request-Headers', 'Content-Disposition': 'attachment; filename=enheter_alle.json.gz', 'Accept-Ranges': 'bytes', 'Content-Type': 'application/gzip;charset=UTF-8', 'Content-Length': '85238578', 'Date': 'Sat, 13 Jun 2020 20:11:36 GMT', 'Set-Cookie': '427fb3af220e1b20a96f703941cf5ddb=b79f79947c88b6586dc7122c5fe9434c; path=/; HttpOnly; Secure, BRjEE1=!mVKiud78JUsCK8nLIICWUnHw+aorreskyscWbiAO+R2437KA4rekG6W9r91cFj9/VUjnfs8/LDuakw==; path=/; Httponly; Secure', 'Cache-control': 'private', 'Strict-Transport-Security': 'max-age=157680000; includeSubDomains'}\n"
     ]
    }
   ],
   "source": [
    "print(response.headers)"
   ]
  },
  {
   "cell_type": "code",
   "execution_count": 72,
   "metadata": {},
   "outputs": [
    {
     "data": {
      "text/plain": [
       "85238578"
      ]
     },
     "execution_count": 72,
     "metadata": {},
     "output_type": "execute_result"
    }
   ],
   "source": [
    "open('enheter_alle.json.gz', 'wb').write(response.content)"
   ]
  },
  {
   "cell_type": "code",
   "execution_count": null,
   "metadata": {},
   "outputs": [],
   "source": [
    "# Extracting 10.000 of all updates by date - not working as all updates are \"unknown until mid 2019\"\n",
    "url = 'https://data.brreg.no/enhetsregisteret/api/oppdateringer/enheter?dato=2019-05-01T00:00:00.000Z&size=10000'\n",
    "response = requests.get(url)\n",
    "print(response)"
   ]
  },
  {
   "cell_type": "code",
   "execution_count": null,
   "metadata": {},
   "outputs": [],
   "source": []
  },
  {
   "cell_type": "code",
   "execution_count": null,
   "metadata": {},
   "outputs": [],
   "source": [
    "# Number of businesses\n",
    "data = response.json()\n",
    "units = data['_embedded']['oppdaterteEnheter']\n",
    "len(units)"
   ]
  },
  {
   "cell_type": "code",
   "execution_count": null,
   "metadata": {},
   "outputs": [],
   "source": [
    "#print(json.dumps(parsed['_embedded']['enheter'][0], indent=4, sort_keys=True))"
   ]
  },
  {
   "cell_type": "code",
   "execution_count": null,
   "metadata": {},
   "outputs": [],
   "source": []
  },
  {
   "cell_type": "code",
   "execution_count": 66,
   "metadata": {},
   "outputs": [
    {
     "name": "stdout",
     "output_type": "stream",
     "text": [
      "{\n",
      "    \"_embedded\": {\n",
      "        \"enheter\": [\n",
      "            {\n",
      "                \"_links\": {\n",
      "                    \"self\": {\n",
      "                        \"href\": \"https://data.brreg.no/enhetsregisteret/api/enheter/920162673\"\n",
      "                    }\n",
      "                },\n",
      "                \"antallAnsatte\": 0,\n",
      "                \"forretningsadresse\": {\n",
      "                    \"adresse\": [\n",
      "                        \"c/o Tuva Ystad Geder\\u00f8\",\n",
      "                        \"Steinst\\u00f8lveien 17\"\n",
      "                    ],\n",
      "                    \"kommune\": \"STAVANGER\",\n",
      "                    \"kommunenummer\": \"1103\",\n",
      "                    \"land\": \"Norge\",\n",
      "                    \"landkode\": \"NO\",\n",
      "                    \"postnummer\": \"4027\",\n",
      "                    \"poststed\": \"STAVANGER\"\n",
      "                },\n",
      "                \"institusjonellSektorkode\": {\n",
      "                    \"beskrivelse\": \"Ideelle organisasjoner\",\n",
      "                    \"kode\": \"7000\"\n",
      "                },\n",
      "                \"konkurs\": false,\n",
      "                \"maalform\": \"Nynorsk\",\n",
      "                \"naeringskode1\": {\n",
      "                    \"beskrivelse\": \"Ut\\u00f8vende kunstnere og underholdningsvirksomhet innen musikk\",\n",
      "                    \"kode\": \"90.011\"\n",
      "                },\n",
      "                \"navn\": \"UNG KYRKJESONG VEST\",\n",
      "                \"organisasjonsform\": {\n",
      "                    \"_links\": {\n",
      "                        \"self\": {\n",
      "                            \"href\": \"https://data.brreg.no/enhetsregisteret/api/organisasjonsformer/FLI\"\n",
      "                        }\n",
      "                    },\n",
      "                    \"beskrivelse\": \"Forening/lag/innretning\",\n",
      "                    \"kode\": \"FLI\"\n",
      "                },\n",
      "                \"organisasjonsnummer\": \"920162673\",\n",
      "                \"registreringsdatoEnhetsregisteret\": \"2017-12-21\",\n",
      "                \"registrertIForetaksregisteret\": false,\n",
      "                \"registrertIFrivillighetsregisteret\": true,\n",
      "                \"registrertIMvaregisteret\": false,\n",
      "                \"registrertIStiftelsesregisteret\": false,\n",
      "                \"stiftelsesdato\": \"2017-12-19\",\n",
      "                \"underAvvikling\": false,\n",
      "                \"underTvangsavviklingEllerTvangsopplosning\": false\n",
      "            },\n",
      "            {\n",
      "                \"_links\": {\n",
      "                    \"self\": {\n",
      "                        \"href\": \"https://data.brreg.no/enhetsregisteret/api/enheter/920163149\"\n",
      "                    }\n",
      "                },\n",
      "                \"antallAnsatte\": 0,\n",
      "                \"forretningsadresse\": {\n",
      "                    \"adresse\": [\n",
      "                        \"c/o Karolina Malgorzata Lisik\",\n",
      "                        \"Thorvald Meyers gate 16A\"\n",
      "                    ],\n",
      "                    \"kommune\": \"OSLO\",\n",
      "                    \"kommunenummer\": \"0301\",\n",
      "                    \"land\": \"Norge\",\n",
      "                    \"landkode\": \"NO\",\n",
      "                    \"postnummer\": \"0555\",\n",
      "                    \"poststed\": \"OSLO\"\n",
      "                },\n",
      "                \"institusjonellSektorkode\": {\n",
      "                    \"beskrivelse\": \"Ideelle organisasjoner\",\n",
      "                    \"kode\": \"7000\"\n",
      "                },\n",
      "                \"konkurs\": false,\n",
      "                \"maalform\": \"Bokm\\u00e5l\",\n",
      "                \"naeringskode1\": {\n",
      "                    \"beskrivelse\": \"Aktiviteter i andre interesseorganisasjoner ikke nevnt annet sted\",\n",
      "                    \"kode\": \"94.991\"\n",
      "                },\n",
      "                \"navn\": \"INTERNATIONAL ART SCENE\",\n",
      "                \"organisasjonsform\": {\n",
      "                    \"_links\": {\n",
      "                        \"self\": {\n",
      "                            \"href\": \"https://data.brreg.no/enhetsregisteret/api/organisasjonsformer/FLI\"\n",
      "                        }\n",
      "                    },\n",
      "                    \"beskrivelse\": \"Forening/lag/innretning\",\n",
      "                    \"kode\": \"FLI\"\n",
      "                },\n",
      "                \"organisasjonsnummer\": \"920163149\",\n",
      "                \"registreringsdatoEnhetsregisteret\": \"2017-12-22\",\n",
      "                \"registrertIForetaksregisteret\": false,\n",
      "                \"registrertIFrivillighetsregisteret\": true,\n",
      "                \"registrertIMvaregisteret\": false,\n",
      "                \"registrertIStiftelsesregisteret\": false,\n",
      "                \"stiftelsesdato\": \"2017-12-13\",\n",
      "                \"underAvvikling\": false,\n",
      "                \"underTvangsavviklingEllerTvangsopplosning\": false\n",
      "            }\n",
      "        ]\n",
      "    },\n",
      "    \"_links\": {\n",
      "        \"first\": {\n",
      "            \"href\": \"https://data.brreg.no/enhetsregisteret/api/enheter/?fraStiftelsesdato=2000-01-01&page=0&size=2\"\n",
      "        },\n",
      "        \"last\": {\n",
      "            \"href\": \"https://data.brreg.no/enhetsregisteret/api/enheter/?fraStiftelsesdato=2000-01-01&page=209412&size=2\"\n",
      "        },\n",
      "        \"next\": {\n",
      "            \"href\": \"https://data.brreg.no/enhetsregisteret/api/enheter/?fraStiftelsesdato=2000-01-01&page=1&size=2\"\n",
      "        },\n",
      "        \"self\": {\n",
      "            \"href\": \"https://data.brreg.no/enhetsregisteret/api/enheter/?fraStiftelsesdato=2000-01-01&size=2\"\n",
      "        }\n",
      "    },\n",
      "    \"page\": {\n",
      "        \"number\": 0,\n",
      "        \"size\": 2,\n",
      "        \"totalElements\": 418825,\n",
      "        \"totalPages\": 209413\n",
      "    }\n",
      "}\n"
     ]
    }
   ],
   "source": [
    "print(json.dumps(data, indent=4, sort_keys=True))"
   ]
  },
  {
   "cell_type": "code",
   "execution_count": 54,
   "metadata": {},
   "outputs": [],
   "source": [
    "with open('data1.json', 'w', encoding='utf-8') as f:\n",
    "    json.dump(data, f, ensure_ascii=False, indent=4)"
   ]
  },
  {
   "cell_type": "code",
   "execution_count": 61,
   "metadata": {},
   "outputs": [],
   "source": [
    "df_batch = pd.read_json('data1.json')\n",
    "df_batch.to_csv ('from_2017-12-21_to_2006-01-16.csv', index = None)"
   ]
  },
  {
   "cell_type": "code",
   "execution_count": null,
   "metadata": {},
   "outputs": [],
   "source": []
  },
  {
   "cell_type": "code",
   "execution_count": null,
   "metadata": {},
   "outputs": [],
   "source": []
  },
  {
   "cell_type": "code",
   "execution_count": null,
   "metadata": {},
   "outputs": [],
   "source": []
  },
  {
   "cell_type": "code",
   "execution_count": null,
   "metadata": {},
   "outputs": [],
   "source": []
  },
  {
   "cell_type": "code",
   "execution_count": null,
   "metadata": {},
   "outputs": [],
   "source": []
  },
  {
   "cell_type": "code",
   "execution_count": null,
   "metadata": {},
   "outputs": [],
   "source": []
  }
 ],
 "metadata": {
  "kernelspec": {
   "display_name": "Python 3",
   "language": "python",
   "name": "python3"
  },
  "language_info": {
   "codemirror_mode": {
    "name": "ipython",
    "version": 3
   },
   "file_extension": ".py",
   "mimetype": "text/x-python",
   "name": "python",
   "nbconvert_exporter": "python",
   "pygments_lexer": "ipython3",
   "version": "3.7.2"
  }
 },
 "nbformat": 4,
 "nbformat_minor": 2
}
