{
 "cells": [
  {
   "cell_type": "code",
   "execution_count": null,
   "metadata": {},
   "outputs": [],
   "source": [
    "import numpy as np\n",
    "import pandas as pd\n",
    "import requests\n",
    "import json\n",
    "import xlrd\n",
    "import matplotlib.pyplot as plt\n",
    "import seaborn as sns\n",
    "import datetime\n",
    "import dateutil.relativedelta as relativedelta\n",
    "import scipy.stats as st\n",
    "%matplotlib inline\n",
    "import warnings\n",
    "warnings.filterwarnings('ignore')"
   ]
  },
  {
   "cell_type": "code",
   "execution_count": null,
   "metadata": {},
   "outputs": [],
   "source": [
    "# We are interested in the timeframe 2007-01-01 until 2020-01-01\n",
    "from dateutil.relativedelta import *\n",
    "start = datetime.datetime(2007, 1, 1)\n",
    "dt_array = np.array([start + relativedelta(months=i) for i in range(13*12)]).astype(\"datetime64\")"
   ]
  },
  {
   "cell_type": "markdown",
   "metadata": {},
   "source": [
    "# Financial Data"
   ]
  },
  {
   "cell_type": "code",
   "execution_count": null,
   "metadata": {},
   "outputs": [],
   "source": [
    "#Stock market data\n",
    "stock_data = pd.read_excel('financial_data.xlsx')\n",
    "print(stock_data.shape[1] - 1,'features and',stock_data.shape[0],'data points')\n",
    "stock_data.head()"
   ]
  },
  {
   "cell_type": "code",
   "execution_count": null,
   "metadata": {},
   "outputs": [],
   "source": [
    "# Take the average stock prices per day (high+low/2)\n",
    "stock_data_avg = stock_data.drop(['Siste', 'Offisielt omsatt (NOK)', 'Lav', 'Høy'], axis=1)\n",
    "stock_data_avg['avg stock price'] = (stock_data['Høy'] + stock_data['Lav'])/2\n",
    "\n",
    "# Take only data from Jan 1st 2007 until Jan 1st 2020\n",
    "stock_data_avg = stock_data_avg[(stock_data_avg['OSEBX']>'2007-01-01')& (stock_data_avg['OSEBX']<'2020-01-01')].rename(columns={\"OSEBX\": \"date\"})\n",
    "stock_data_avg.head() "
   ]
  },
  {
   "cell_type": "code",
   "execution_count": null,
   "metadata": {},
   "outputs": [],
   "source": [
    "# Visualizing the stock prices\n",
    "sns.set()\n",
    "_ = plt.plot(stock_data_avg['date'],stock_data_avg['avg stock price'] )\n",
    "_ = plt.xlabel('date')\n",
    "_ = plt.ylabel('avg stock price')\n",
    "_ = plt.title('Average stock price per day from 2007-2020')"
   ]
  },
  {
   "cell_type": "code",
   "execution_count": null,
   "metadata": {},
   "outputs": [],
   "source": [
    "# Group by month\n",
    "monthly_avg = stock_data_avg.groupby([stock_data_avg.date.dt.year,stock_data_avg.date.dt.month])['avg stock price'].agg(['mean','median','std'])\n",
    "\n",
    "# Rename index cols\n",
    "monthly_avg.index = monthly_avg.index.rename(['Year','Month'])\n"
   ]
  },
  {
   "cell_type": "code",
   "execution_count": null,
   "metadata": {},
   "outputs": [],
   "source": [
    "stock_monthly_avg = pd.DataFrame()\n",
    "stock_monthly_avg['date'] = dt_array\n",
    "stock_monthly_avg['date'] = stock_monthly_avg['date'].astype('datetime64')\n",
    "stock_monthly_avg['mean stock price'] = monthly_avg['mean'].values\n",
    "\n",
    "_ = plt.plot(stock_monthly_avg['date'],stock_monthly_avg['mean stock price'] )\n",
    "_ = plt.xlabel('month')\n",
    "_ = plt.ylabel('mean stock price')\n",
    "_ = plt.title('Mean stock price per month from 2007-2020')"
   ]
  },
  {
   "cell_type": "code",
   "execution_count": null,
   "metadata": {},
   "outputs": [],
   "source": []
  },
  {
   "cell_type": "markdown",
   "metadata": {},
   "source": [
    "# Company Register"
   ]
  },
  {
   "cell_type": "code",
   "execution_count": null,
   "metadata": {},
   "outputs": [],
   "source": [
    "#Business data\n",
    "json_file = open('enheter_alle.json')\n",
    "data = json.load(json_file)\n",
    "len(data)"
   ]
  },
  {
   "cell_type": "code",
   "execution_count": null,
   "metadata": {},
   "outputs": [],
   "source": [
    "# The parameters that we are interested in\n",
    "o_arr, r_arr, s_arr  = [], [], []"
   ]
  },
  {
   "cell_type": "code",
   "execution_count": null,
   "metadata": {},
   "outputs": [],
   "source": [
    "# Generate dataset WITH missing 'founding date'\n",
    "for e in data:\n",
    "    if not bool(e['registrertIFrivillighetsregisteret']):\n",
    "        o_arr.append(int(e['organisasjonsnummer']))\n",
    "        r_arr.append(np.datetime64(e['registreringsdatoEnhetsregisteret']))\n",
    "        if 'stiftelsesdato' in e:\n",
    "            s_arr.append(np.datetime64(e['stiftelsesdato']))\n",
    "        else:\n",
    "            s_arr.append(np.datetime64('0000-01-01'))\n"
   ]
  },
  {
   "cell_type": "code",
   "execution_count": null,
   "metadata": {},
   "outputs": [],
   "source": [
    "df = pd.DataFrame()\n",
    "df['organisation number'] = o_arr\n",
    "df['registry date'] = r_arr\n",
    "df['founding date'] = s_arr\n",
    "\n",
    "df['organisation number'] = df['organisation number'].astype('int')\n",
    "df['registry date'] = df['registry date'].astype(\"datetime64\")\n",
    "df['founding date'] = pd.to_datetime(df['founding date'], yearfirst=True, errors='coerce')"
   ]
  },
  {
   "cell_type": "code",
   "execution_count": null,
   "metadata": {},
   "outputs": [],
   "source": [
    "print(\"The number of companies registered is: \" + str(len(df)))"
   ]
  },
  {
   "cell_type": "code",
   "execution_count": null,
   "metadata": {},
   "outputs": [],
   "source": [
    "businesses = df[(df['founding date']>np.datetime64('2007-01-01')) & (df['founding date']<np.datetime64('2020-01-01'))]\n",
    "businesses.head()"
   ]
  },
  {
   "cell_type": "code",
   "execution_count": null,
   "metadata": {},
   "outputs": [],
   "source": [
    "print(\"Companies registered between Jan 1st 2007 - Jan 1st 2020 is: \" + str(len(businesses)))"
   ]
  },
  {
   "cell_type": "code",
   "execution_count": null,
   "metadata": {},
   "outputs": [],
   "source": [
    "sns.set()\n",
    "businesses[\"founding date\"] = businesses[\"founding date\"].astype(\"datetime64\")\n",
    "busPerYear = businesses['founding date'].groupby(businesses[\"founding date\"].dt.year).count()"
   ]
  },
  {
   "cell_type": "code",
   "execution_count": null,
   "metadata": {},
   "outputs": [],
   "source": []
  },
  {
   "cell_type": "code",
   "execution_count": null,
   "metadata": {},
   "outputs": [],
   "source": [
    "_ = busPerYear.plot(kind='bar')\n",
    "_ = plt.xlabel('founding year')\n",
    "_ = plt.ylabel('number of businesses')\n",
    "_ = plt.title('Businesses distributed by founding year')\n",
    "plt.show()"
   ]
  },
  {
   "cell_type": "code",
   "execution_count": null,
   "metadata": {},
   "outputs": [],
   "source": [
    "# Founding Date for all businesses last 30 years(1990-2020)\n",
    "all_buss = df[(df['founding date']>np.datetime64('1990-01-01')) & (df['founding date']<np.datetime64('2020-01-01'))].astype(\"datetime64\")\n",
    "all_buss_per_year = all_buss['founding date'].groupby(all_buss[\"founding date\"].dt.year).count()\n",
    "_ = all_buss_per_year.plot(kind='bar')\n",
    "_ = plt.xlabel('founding year')\n",
    "_ = plt.ylabel('number of businesses')\n",
    "_ = plt.title('Businesses distributed by founding year')\n",
    "plt.show()"
   ]
  },
  {
   "cell_type": "code",
   "execution_count": null,
   "metadata": {},
   "outputs": [],
   "source": [
    "# Registry Date for all businesses last 25 years(1995-2020)\n",
    "all_buss = df[(df['registry date']>np.datetime64('1995-01-01')) & (df['registry date']<np.datetime64('2020-01-01'))].astype(\"datetime64\")\n",
    "all_buss_per_year = all_buss['registry date'].groupby(all_buss[\"registry date\"].dt.year).count()\n",
    "_ = all_buss_per_year.plot(kind='bar')\n",
    "_ = plt.xlabel('registry year')\n",
    "_ = plt.ylabel('number of businesses')\n",
    "_ = plt.title('Businesses distributed by registry year')\n",
    "plt.show()"
   ]
  },
  {
   "cell_type": "code",
   "execution_count": null,
   "metadata": {},
   "outputs": [],
   "source": [
    "busPerMonthYear = businesses['founding date'].groupby([businesses[\"founding date\"].dt.year, businesses[\"founding date\"].dt.month]).count()\n",
    "\n",
    "# Rename index cols\n",
    "busPerMonthYear.index = busPerMonthYear.index.rename(['Year','Month'])\n",
    "busPerMonthYear.head()"
   ]
  },
  {
   "cell_type": "code",
   "execution_count": null,
   "metadata": {},
   "outputs": [],
   "source": [
    "print(len(busPerMonthYear.values)==len(dt_array))"
   ]
  },
  {
   "cell_type": "code",
   "execution_count": null,
   "metadata": {},
   "outputs": [],
   "source": [
    "bus_per_month = pd.DataFrame()\n",
    "bus_per_month['month'] = dt_array\n",
    "bus_per_month['businesses'] = busPerMonthYear.values\n",
    "\n",
    "_ = plt.plot(bus_per_month['month'],bus_per_month['businesses'])\n",
    "_ = plt.xlabel('date')\n",
    "_ = plt.ylabel('number of businesses founded')\n",
    "_ = plt.title('Number of businesses founded by date')\n"
   ]
  },
  {
   "cell_type": "code",
   "execution_count": null,
   "metadata": {},
   "outputs": [],
   "source": []
  },
  {
   "cell_type": "code",
   "execution_count": null,
   "metadata": {
    "scrolled": true
   },
   "outputs": [],
   "source": [
    "# Running mean - using a sliding window with a convolution kernel \n",
    "N = 10\n",
    "conv_bus = pd.DataFrame()\n",
    "conv_bus['date'] = dt_array[int(N/2)-1:-int(N/2)]\n",
    "conv_bus['businesses'] = np.convolve(busPerMonthYear, np.ones((N,))/N, mode='valid')\n",
    "\n",
    "_ = plt.plot(conv_bus['date'],conv_bus['businesses'])\n",
    "_ = plt.xlabel('month')\n",
    "_ = plt.ylabel('number of businesses founded')\n",
    "_ = plt.title('Running mean of number of businesses founded')\n",
    "plt.show()"
   ]
  },
  {
   "cell_type": "markdown",
   "metadata": {},
   "source": [
    "#### Explanation\n",
    "The running mean is a case of the mathematical operation of convolution. For the running mean, you slide a window along the input and compute the mean of the window's contents. For discrete 1D signals, convolution is the same thing, except instead of the mean you compute an arbitrary linear combination, i.e. multiply each element by a corresponding coefficient and add up the results. Those coefficients, one for each position in the window, are sometimes called the convolution kernel. Now, the arithmetic mean of N values is *(x_1 + x_2 + ... + x_N) / N*, so the corresponding kernel is *(1/N, 1/N, ..., 1/N)*, and that's exactly what we get by using *np.ones((N,))/N*."
   ]
  },
  {
   "cell_type": "code",
   "execution_count": null,
   "metadata": {},
   "outputs": [],
   "source": [
    "# For compatibility reasons\n",
    "business_data = conv_bus\n",
    "stock_data = stock_monthly_avg[int(N/2)-1:-int(N/2)]\n",
    "print(len(business_data)==len(stock_data))"
   ]
  },
  {
   "cell_type": "markdown",
   "metadata": {},
   "source": [
    "# Correlation Analysis\n",
    "First let's look at the two datasets we have"
   ]
  },
  {
   "cell_type": "code",
   "execution_count": null,
   "metadata": {},
   "outputs": [],
   "source": [
    "business_data.head()"
   ]
  },
  {
   "cell_type": "code",
   "execution_count": null,
   "metadata": {},
   "outputs": [],
   "source": [
    "stock_data.head()"
   ]
  },
  {
   "cell_type": "code",
   "execution_count": null,
   "metadata": {},
   "outputs": [],
   "source": [
    "# Normalization\n",
    "\n",
    "business_data['businesses'] = (business_data['businesses'] -\n",
    "                               np.mean(business_data['businesses'])) / np.std(business_data['businesses'])\n",
    "\n",
    "stock_data['mean stock price'] = (stock_data['mean stock price'] -\n",
    "                                  np.mean(stock_data['mean stock price'])) / np.std(stock_data['mean stock price'])\n"
   ]
  },
  {
   "cell_type": "code",
   "execution_count": null,
   "metadata": {},
   "outputs": [],
   "source": [
    "_ = plt.plot(business_data['businesses'],stock_data['mean stock price'], marker='.', linestyle='None')\n",
    "_ = plt.xlabel('number of foundings (norm)')\n",
    "_ = plt.ylabel('stock prices (norm)')\n",
    "_ = plt.title('Correlation of num of founded companies and stock prices')"
   ]
  },
  {
   "cell_type": "code",
   "execution_count": null,
   "metadata": {},
   "outputs": [],
   "source": [
    "r = st.pearsonr(business_data['businesses'],stock_data['mean stock price'])\n",
    "print('Pearson correlation coefficient is ' + str(r))"
   ]
  },
  {
   "cell_type": "code",
   "execution_count": null,
   "metadata": {
    "scrolled": true
   },
   "outputs": [],
   "source": [
    "_ = plt.plot(business_data['businesses'],stock_data['mean stock price'], marker='.', linestyle='None', label='Correlation')\n",
    "_ = plt.xlabel('change in numb of foundings (norm)')\n",
    "_ = plt.ylabel('change stock prices (norm)')\n",
    "_ = plt.title('Correlation of change rate of num of founded companies and stock prices')\n",
    "_ = plt.legend()\n"
   ]
  },
  {
   "cell_type": "code",
   "execution_count": null,
   "metadata": {},
   "outputs": [],
   "source": [
    "short"
   ]
  },
  {
   "cell_type": "code",
   "execution_count": null,
   "metadata": {},
   "outputs": [],
   "source": [
    "from scipy.stats import pearsonr\n",
    "x = business_data['businesses']\n",
    "y = stock_data['mean stock price']\n",
    "stat, p = pearsonr(x, y)\n",
    "print('stat=%.3f, p=%.3f' % (stat, p))\n",
    "if p > 0.05:\n",
    "\tprint('Probably independent')\n",
    "else:\n",
    "\tprint('Probably dependent')"
   ]
  },
  {
   "cell_type": "markdown",
   "metadata": {},
   "source": [
    "# The rate of change"
   ]
  },
  {
   "cell_type": "code",
   "execution_count": null,
   "metadata": {},
   "outputs": [],
   "source": [
    "business_data = conv_bus\n",
    "for i in range(0, len(business_data)-1):\n",
    "    business_data['businesses'][i+1]-=business_data['businesses'][i]"
   ]
  },
  {
   "cell_type": "code",
   "execution_count": 528,
   "metadata": {},
   "outputs": [
    {
     "data": {
      "image/png": "[encoded data removed]",
      "text/plain": [
       "<Figure size 432x288 with 1 Axes>"
      ]
     },
     "metadata": {},
     "output_type": "display_data"
    }
   ],
   "source": [
    "_ = plt.plot(business_data['date'],business_data['businesses'], label='change in stock prices', color='green')\n",
    "_ = plt.plot(stock_data['date'],stock_data['mean stock price'], label='change in stock prices', color='blue')\n",
    "_ = plt.xlabel('month')\n",
    "_ = plt.ylabel('normed change')\n",
    "_ = plt.title('The change rate over months')\n",
    "plt.show()"
   ]
  },
  {
   "cell_type": "code",
   "execution_count": null,
   "metadata": {},
   "outputs": [],
   "source": [
    "stock_data = stock_monthly_avg[int(N/2)-1:-int(N/2)]\n",
    "for i in range(int(N/2)-1, len(business_data)-1-int(N/2)):\n",
    "    stock_data['mean stock price'][i+1]-=stock_data['mean stock price'][i]"
   ]
  },
  {
   "cell_type": "code",
   "execution_count": null,
   "metadata": {},
   "outputs": [],
   "source": [
    "business_data[1:]\n",
    "stock_data[1:]\n",
    "\n",
    "print(len(business_data)==len(stock_data))"
   ]
  },
  {
   "cell_type": "code",
   "execution_count": null,
   "metadata": {},
   "outputs": [],
   "source": [
    "# Kwiatkowski-Phillips-Schmidt-Shin test\n",
    "from statsmodels.tsa.stattools import kpss\n",
    "stat, p, lags, crit = kpss(business_data['businesses'])\n",
    "print('stat=%.3f, p=%.3f' % (stat, p))\n",
    "if p > 0.05:\n",
    "\tprint('Probably not Stationary')\n",
    "else:\n",
    "\tprint('Probably Stationary')"
   ]
  },
  {
   "cell_type": "code",
   "execution_count": null,
   "metadata": {},
   "outputs": [],
   "source": [
    "from scipy.stats import pearsonr\n",
    "x = business_data['businesses']\n",
    "y = stock_data['mean stock price']\n",
    "stat, p = pearsonr(x, y)\n",
    "print('stat=%.3f, p=%.3f' % (stat, p))\n",
    "if p > 0.05:\n",
    "\tprint('Probably independent')\n",
    "else:\n",
    "\tprint('Probably dependent')"
   ]
  },
  {
   "cell_type": "code",
   "execution_count": 538,
   "metadata": {},
   "outputs": [
    {
     "data": {
      "image/png": "[encoded data removed]",
      "text/plain": [
       "<Figure size 432x288 with 1 Axes>"
      ]
     },
     "metadata": {},
     "output_type": "display_data"
    }
   ],
   "source": [
    "_ = plt.plot(business_data['businesses'][1:],stock_data['mean stock price'][:-1], marker='.', linestyle='None', label='Correlation')\n",
    "_ = plt.plot(business_data['businesses'][1:],np.zeros(len(business_data['businesses'][1:])), label='0-line', color='red')\n",
    "_ = plt.plot(np.zeros(len(business_data['businesses'][1:])),stock_data['mean stock price'][:-1] , label='0-line', color='red')\n",
    "_ = plt.xlabel('change in numb of foundings (norm)')\n",
    "_ = plt.ylabel('change stock prices (norm)')\n",
    "_ = plt.title('Correlation of founded companies one month after stock price changes')\n"
   ]
  },
  {
   "cell_type": "code",
   "execution_count": null,
   "metadata": {},
   "outputs": [],
   "source": []
  }
 ],
 "metadata": {
  "kernelspec": {
   "display_name": "Python 3",
   "language": "python",
   "name": "python3"
  },
  "language_info": {
   "codemirror_mode": {
    "name": "ipython",
    "version": 3
   },
   "file_extension": ".py",
   "mimetype": "text/x-python",
   "name": "python",
   "nbconvert_exporter": "python",
   "pygments_lexer": "ipython3",
   "version": "3.7.2"
  }
 },
 "nbformat": 4,
 "nbformat_minor": 2
}
